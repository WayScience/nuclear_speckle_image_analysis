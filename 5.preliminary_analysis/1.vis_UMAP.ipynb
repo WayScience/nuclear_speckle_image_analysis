{
 "cells": [
  {
   "cell_type": "markdown",
   "metadata": {},
   "source": [
    "# Visualize UMAPs"
   ]
  },
  {
   "cell_type": "markdown",
   "metadata": {},
   "source": [
    "## Import libraries"
   ]
  },
  {
   "cell_type": "code",
   "execution_count": 1,
   "metadata": {
    "vscode": {
     "languageId": "r"
    }
   },
   "outputs": [
    {
     "name": "stderr",
     "output_type": "stream",
     "text": [
      "Warning message:\n",
      "“package ‘ggplot2’ was built under R version 4.2.3”\n",
      "Warning message:\n",
      "“package ‘ggExtra’ was built under R version 4.2.3”\n"
     ]
    }
   ],
   "source": [
    "suppressPackageStartupMessages(library(ggplot2)) #plotting\n",
    "suppressPackageStartupMessages(library(dplyr)) #work with data frames\n",
    "suppressPackageStartupMessages(library(ggExtra)) #marginal density plot to add to UMAP"
   ]
  },
  {
   "cell_type": "markdown",
   "metadata": {},
   "source": [
    "## Set up paths and variables"
   ]
  },
  {
   "cell_type": "code",
   "execution_count": 2,
   "metadata": {
    "vscode": {
     "languageId": "r"
    }
   },
   "outputs": [
    {
     "name": "stdout",
     "output_type": "stream",
     "text": [
      "[1] \"results/UMAP_slide1_sc_feature_selected.tsv\"\n",
      "[2] \"results/UMAP_slide2_sc_feature_selected.tsv\"\n",
      "[3] \"results/UMAP_slide3_sc_feature_selected.tsv\"\n",
      "[4] \"results/UMAP_slide4_sc_feature_selected.tsv\"\n",
      "$slide1\n",
      "[1] \"figures/UMAP_slide1\"\n",
      "\n",
      "$slide2\n",
      "[1] \"figures/UMAP_slide2\"\n",
      "\n",
      "$slide3\n",
      "[1] \"figures/UMAP_slide3\"\n",
      "\n",
      "$slide4\n",
      "[1] \"figures/UMAP_slide4\"\n",
      "\n"
     ]
    }
   ],
   "source": [
    "# Set directory and file structure\n",
    "umap_dir <- file.path(\"results\")\n",
    "umap_files <- list.files(umap_dir, pattern = \"\\\\.tsv$\", full.names = TRUE)\n",
    "print(umap_files)\n",
    "\n",
    "output_fig_dir <- file.path(\"figures\")\n",
    "umap_prefix <- \"UMAP_\"\n",
    "plate_suffix <- \"_sc_feature_selected.tsv\"\n",
    "\n",
    "# Define output figure paths as a dictionary where each plate has a figure output path\n",
    "output_umap_files <- list()\n",
    "for (umap_file in umap_files) {\n",
    "    # Use the file name to extract plate\n",
    "    plate <- stringr::str_remove(\n",
    "        stringr::str_remove(\n",
    "            unlist(\n",
    "                strsplit(umap_file, \"/\")\n",
    "            )[2],\n",
    "            umap_prefix\n",
    "        ),\n",
    "        plate_suffix\n",
    "    )\n",
    "    output_umap_files[plate] <- file.path(\n",
    "        output_fig_dir,\n",
    "        paste0(umap_prefix, plate)\n",
    "    )\n",
    "}\n",
    "        \n",
    "print(output_umap_files)\n"
   ]
  },
  {
   "cell_type": "markdown",
   "metadata": {},
   "source": [
    "## Load in UMAP data frames"
   ]
  },
  {
   "cell_type": "code",
   "execution_count": 3,
   "metadata": {
    "vscode": {
     "languageId": "r"
    }
   },
   "outputs": [],
   "source": [
    "# Load data\n",
    "umap_cp_df <- list()\n",
    "for (plate in names(output_umap_files)) {\n",
    "    # Find the umap file associated with the plate\n",
    "    umap_file <- umap_files[stringr::str_detect(umap_files, plate)]\n",
    "    \n",
    "    # Load in the umap data\n",
    "    df <- readr::read_tsv(\n",
    "        umap_file,\n",
    "        col_types = readr::cols(\n",
    "            .default = \"d\",\n",
    "            \"Metadata_Plate\" = \"c\",\n",
    "            \"Metadata_Well\" = \"c\",\n",
    "            \"Metadata_Site\" = \"c\",\n",
    "            \"Metadata_CellLine\" = \"c\",\n",
    "            \"Metadata_Condition\" = \"c\",\n",
    "            \"Metadata_Nuclei_Site_Count\" = \"d\"\n",
    "        )\n",
    "    )\n",
    "\n",
    "    # Append the data frame to the list\n",
    "    umap_cp_df[[plate]] <- df \n",
    "}"
   ]
  },
  {
   "cell_type": "markdown",
   "metadata": {},
   "source": [
    "## Generate cell count and condition labelled UMAPs per plate"
   ]
  },
  {
   "cell_type": "code",
   "execution_count": 5,
   "metadata": {
    "vscode": {
     "languageId": "r"
    }
   },
   "outputs": [],
   "source": [
    "for (plate in names(umap_cp_df)) {\n",
    "    # Genotype UMAP file path\n",
    "    condition_output_file <- paste0(output_umap_files[[plate]], \"_condition.png\")\n",
    "\n",
    "    # UMAP labeled with condition\n",
    "    condition_gg <- (\n",
    "        ggplot(umap_cp_df[[plate]], aes(x = UMAP0, y = UMAP1))\n",
    "        + geom_point(\n",
    "            aes(color = Metadata_Condition), size = 0.8, alpha = 0.6\n",
    "        )\n",
    "        + theme_bw()\n",
    "        + scale_color_brewer(palette = \"Dark2\")\n",
    "        + labs(color = \"siRNA Treatment\")  # Change legend title\n",
    "        + theme(\n",
    "            legend.position = \"left\"\n",
    "        )\n",
    "    )\n",
    "\n",
    "    # Add marginal density plots\n",
    "    condition_gg_marginal <- ggMarginal(\n",
    "        condition_gg,\n",
    "        type = \"density\",\n",
    "        margins = \"both\",\n",
    "        size = 5,\n",
    "        groupColour = TRUE,\n",
    "        groupFill = TRUE,\n",
    "    )\n",
    "    \n",
    "    ggsave(condition_output_file, condition_gg_marginal, dpi = 500, height = 6, width = 6)\n",
    "\n",
    "    # UMAP labeled with cell count\n",
    "    cell_count_output_file <- paste0(output_umap_files[[plate]], \"_cell_count.png\")\n",
    "    \n",
    "    umap_cell_count_gg <- (\n",
    "        ggplot(umap_cp_df[[plate]], aes(x = UMAP0, y = UMAP1))\n",
    "        + geom_point(\n",
    "            aes(color = Metadata_Nuclei_Site_Count), size = 1.2, alpha = 0.6\n",
    "        )\n",
    "        + theme_bw()\n",
    "        + theme(\n",
    "            strip.background = element_rect(colour = \"black\", fill = \"#fdfff4\")\n",
    "        )\n",
    "        + scale_color_viridis_c(name = \"Number of\\nsingle cells\\nper FOV\", direction = -1, option = \"inferno\")\n",
    "    )\n",
    "\n",
    "    ggsave(cell_count_output_file, umap_cell_count_gg, dpi = 500, height = 6, width = 6)\n",
    "}\n"
   ]
  },
  {
   "cell_type": "code",
   "execution_count": null,
   "metadata": {
    "vscode": {
     "languageId": "r"
    }
   },
   "outputs": [],
   "source": []
  }
 ],
 "metadata": {
  "kernelspec": {
   "display_name": "R",
   "language": "R",
   "name": "ir"
  },
  "language_info": {
   "codemirror_mode": "r",
   "file_extension": ".r",
   "mimetype": "text/x-r-source",
   "name": "R",
   "pygments_lexer": "r",
   "version": "4.2.2"
  }
 },
 "nbformat": 4,
 "nbformat_minor": 2
}
