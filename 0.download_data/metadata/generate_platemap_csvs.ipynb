{
 "cells": [
  {
   "cell_type": "markdown",
   "metadata": {},
   "source": [
    "# Generate platemap files from original position files\n",
    "\n",
    "In this notebook, position files are used to generate plate map files to use for saving max projection images and annotating single-cell outputs downstream. Platemap files are saved which are only one row per Well with relevant perturbation and cell line info.\n",
    "\n",
    "Intermediate files called `cellprofiler_csvs` are created to use for outputting TIFFs from the nd2 file in the next module (1.max_projection)."
   ]
  },
  {
   "cell_type": "markdown",
   "metadata": {},
   "source": [
    "## Import libraries"
   ]
  },
  {
   "cell_type": "code",
   "execution_count": 1,
   "metadata": {},
   "outputs": [],
   "source": [
    "import pathlib\n",
    "import pandas as pd"
   ]
  },
  {
   "cell_type": "markdown",
   "metadata": {},
   "source": [
    "## Generate intermediate CellProfiler CSV files for metadata module"
   ]
  },
  {
   "cell_type": "code",
   "execution_count": 2,
   "metadata": {},
   "outputs": [
    {
     "name": "stdout",
     "output_type": "stream",
     "text": [
      "  Point Name  X Pos[µm]  Y Pos[µm]  Image Well CellLine Condition\n",
      "0          2    12065.8    -8723.4      0   A1     786O       NTC\n",
      "1          4    10465.8    -8735.5      1   A1     786O       NTC\n",
      "2          6     8866.0    -8747.5      2   A1     786O       NTC\n",
      "3          9     7259.9    -7959.6      3   A1     786O       NTC\n",
      "4         10     8060.0    -7953.5      4   A1     786O       NTC\n",
      "  Point Name  X Pos[µm]  Y Pos[µm]  Image Well CellLine Condition\n",
      "0          1    12865.9    -8717.4      0   A1     786O       NTC\n",
      "1          4    10466.0    -8735.5      1   A1     786O       NTC\n",
      "2          6     8865.9    -8747.5      2   A1     786O       NTC\n",
      "3          7     8065.9    -8753.5      3   A1     786O       NTC\n",
      "4         10     8060.1    -7953.5      4   A1     786O       NTC\n",
      "  Point Name  X Pos[µm]  Y Pos[µm]  Image Well CellLine Condition\n",
      "0         14    11260.1    -7929.7      0   A1     786O       NTC\n",
      "1         15    12059.8    -7923.8      1   A1     786O       NTC\n",
      "2         16    12859.8    -7917.7      2   A1     786O       NTC\n",
      "3         17    12853.6    -7117.7      3   A1     786O       NTC\n",
      "4         18    12053.8    -7122.8      4   A1     786O       NTC\n",
      "  Point Name  X Pos[µm]  Y Pos[µm]  Image Well CellLine Condition\n",
      "0          5     9665.6    -8741.5      0   A1     786O       NTC\n",
      "1          6     8865.5    -8747.5      1   A1     786O       NTC\n",
      "2          7     8065.5    -8753.4      2   A1     786O       NTC\n",
      "3         10     8059.7    -7953.5      3   A1     786O       NTC\n",
      "4         11     8859.7    -7947.5      4   A1     786O       NTC\n"
     ]
    }
   ],
   "source": [
    "# Dir path for output of platemap CSV files\n",
    "cp_csv_dir = pathlib.Path(\"./cellprofiler_csvs\")\n",
    "cp_csv_dir.mkdir(parents=True, exist_ok=True)\n",
    "\n",
    "# Find all position txt files in the current directory starting with \"slide\" using glob\n",
    "position_files = pathlib.Path().resolve().glob('slide*')\n",
    "\n",
    "# Instantiate a empty list to append cellprofiler csvs to\n",
    "cp_csv_dfs = []\n",
    "\n",
    "# Iterate through each file to update \"Point Name\" and \"Image\" columns\n",
    "for file in position_files:\n",
    "    # Read the CSV file\n",
    "    df = pd.read_csv(file, delimiter='\\t', encoding='utf-16')\n",
    "    \n",
    "    # Remove '#' prefix from 'Point Name' column\n",
    "    df['Point Name'] = df['Point Name'].str.lstrip('#')\n",
    "    \n",
    "    # Zero-index the 'Image' column\n",
    "    df['Image'] = df['Image'] - 1\n",
    "    \n",
    "    # Save the processed DataFrame to the cellprofiler csvs directory\n",
    "    output_file = pathlib.Path(f\"{cp_csv_dir}/{file.stem}.csv\")\n",
    "    df.to_csv(output_file, index=False)\n",
    "    \n",
    "    # Append the processed DataFrame to the list\n",
    "    cp_csv_dfs.append(df)\n",
    "\n",
    "# Print the list of dataframes to verify that the process worked\n",
    "for df in cp_csv_dfs:\n",
    "    print(df.head())"
   ]
  },
  {
   "cell_type": "markdown",
   "metadata": {},
   "source": [
    "## Generate platemap files"
   ]
  },
  {
   "cell_type": "code",
   "execution_count": 5,
   "metadata": {},
   "outputs": [
    {
     "name": "stdout",
     "output_type": "stream",
     "text": [
      "    Well CellLine  Condition\n",
      "0     A1     786O        NTC\n",
      "22    B1     786O    ALY kd5\n",
      "49    A2     786O    ALY kd8\n",
      "93    B2     786O  SART1 kd4\n",
      "153   A3     786O  SART1 kd6\n",
      "188   B3     786O   FIBP kd6\n",
      "211   A4     786O   FIBP kd7\n",
      "261   B4     293T  untreated\n",
      "    Well CellLine    Condition\n",
      "0     A1     786O          NTC\n",
      "38    B1     786O   DDX39A kd1\n",
      "71    A2     786O   DDX39A kd4\n",
      "122   B2     786O    SARNP kd3\n",
      "168   A3     786O    SARNP kd9\n",
      "231   B3     786O  TMEM259 kd5\n",
      "290   A4     786O  TMEM259 kd6\n",
      "343   B4     293T    untreated\n",
      "    Well CellLine  Condition\n",
      "0     A1     786O        NTC\n",
      "24    B1     786O    ALY kd5\n",
      "65    A2     786O    ALY kd8\n",
      "128   B2     786O  SART1 kd4\n",
      "186   A3     786O  SART1 kd6\n",
      "225   B3     786O   FIBP kd6\n",
      "265   A4     786O   FIBP kd7\n",
      "318   B4     293T  untreated\n",
      "    Well CellLine    Condition\n",
      "0     A1     786O          NTC\n",
      "33    B1     786O   DDX39A kd1\n",
      "60    A2     786O   DDX39A kd4\n",
      "100   B2     786O    SARNP kd3\n",
      "124   A3     786O    SARNP kd9\n",
      "167   B3     786O  TMEM259 kd5\n",
      "199   A4     786O  TMEM259 kd6\n",
      "226   B4     293T    untreated\n"
     ]
    }
   ],
   "source": [
    "# Dir path for output of platemap CSV files\n",
    "platemap_dir = pathlib.Path(\"./platemaps\")\n",
    "platemap_dir.mkdir(parents=True, exist_ok=True)\n",
    "\n",
    "# Find all position txt files in the current directory starting with \"slide\" using glob\n",
    "position_files = pathlib.Path().resolve().glob('slide*')\n",
    "\n",
    "# Instantiate an empty list to append platemaps to\n",
    "platemap_dfs = []\n",
    "\n",
    "# Iterate through each file to update and reduce the rows to one per well\n",
    "for file in position_files:\n",
    "    # Read the CSV file\n",
    "    df = pd.read_csv(file, delimiter='\\t', encoding='utf-16')\n",
    "    \n",
    "    # Only keep relevant columns to perturbation and cell line\n",
    "    df = df[['Well', 'CellLine', 'Condition']]\n",
    "    \n",
    "    # Reduce rows down to one per well\n",
    "    df = df.drop_duplicates(subset='Well')\n",
    "    \n",
    "    # Save the processed DataFrame to the platemap directory\n",
    "    output_file = pathlib.Path(f\"{platemap_dir}/{file.stem.split('.')[0]}_platemap.csv\")\n",
    "    df.to_csv(output_file, index=False)\n",
    "    \n",
    "    # Append the processed DataFrame to the list\n",
    "    platemap_dfs.append(df)\n",
    "\n",
    "# Print the list of dataframes to verify that the process worked\n",
    "for df in platemap_dfs:\n",
    "    print(df)"
   ]
  },
  {
   "cell_type": "code",
   "execution_count": null,
   "metadata": {},
   "outputs": [],
   "source": []
  }
 ],
 "metadata": {
  "kernelspec": {
   "display_name": "nuclear_speckle_cp_env",
   "language": "python",
   "name": "python3"
  },
  "language_info": {
   "codemirror_mode": {
    "name": "ipython",
    "version": 3
   },
   "file_extension": ".py",
   "mimetype": "text/x-python",
   "name": "python",
   "nbconvert_exporter": "python",
   "pygments_lexer": "ipython3",
   "version": "3.8.19"
  }
 },
 "nbformat": 4,
 "nbformat_minor": 2
}
