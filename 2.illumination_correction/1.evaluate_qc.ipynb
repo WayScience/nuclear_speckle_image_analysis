{
 "cells": [
  {
   "cell_type": "markdown",
   "metadata": {},
   "source": [
    "# Whole image quality control metric evaluation\n",
    "\n",
    "In this notebook, we will use the outputted QC metrics to start working on developing thresholds using z-score to flag and skip images during CellProfiler illumination correction.\n",
    "We merge all 4 plates together to find the most optimal thresholds across all of them.\n",
    "Since the A647 and GOLD channels tend to be less bright and have less objects within the image, we will not use them for thresholding and only use the DAPI channel in this notebook.\n",
    "\n",
    "**Blur metric to detect out of focus images** -> PowerLogLogSlope\n",
    "\n",
    "**Saturation metric to detect large smudges** -> PercentMaximal"
   ]
  },
  {
   "cell_type": "markdown",
   "metadata": {},
   "source": [
    "## Import libraries"
   ]
  },
  {
   "cell_type": "code",
   "execution_count": 1,
   "metadata": {},
   "outputs": [],
   "source": [
    "import pathlib\n",
    "import pandas as pd\n",
    "\n",
    "from scipy.stats import zscore\n",
    "import matplotlib.pyplot as plt\n",
    "import seaborn as sns"
   ]
  },
  {
   "cell_type": "markdown",
   "metadata": {},
   "source": [
    "## Set paths and load in data frame"
   ]
  },
  {
   "cell_type": "code",
   "execution_count": 2,
   "metadata": {},
   "outputs": [
    {
     "name": "stdout",
     "output_type": "stream",
     "text": [
      "(1404, 73)\n"
     ]
    },
    {
     "data": {
      "text/html": [
       "<div>\n",
       "<style scoped>\n",
       "    .dataframe tbody tr th:only-of-type {\n",
       "        vertical-align: middle;\n",
       "    }\n",
       "\n",
       "    .dataframe tbody tr th {\n",
       "        vertical-align: top;\n",
       "    }\n",
       "\n",
       "    .dataframe thead th {\n",
       "        text-align: right;\n",
       "    }\n",
       "</style>\n",
       "<table border=\"1\" class=\"dataframe\">\n",
       "  <thead>\n",
       "    <tr style=\"text-align: right;\">\n",
       "      <th></th>\n",
       "      <th>Channel_A647</th>\n",
       "      <th>Channel_DAPI</th>\n",
       "      <th>Channel_GOLD</th>\n",
       "      <th>ExecutionTime_01Images</th>\n",
       "      <th>ExecutionTime_02Metadata</th>\n",
       "      <th>ExecutionTime_03NamesAndTypes</th>\n",
       "      <th>ExecutionTime_04Groups</th>\n",
       "      <th>ExecutionTime_05MeasureImageQuality</th>\n",
       "      <th>FileName_A647</th>\n",
       "      <th>FileName_DAPI</th>\n",
       "      <th>...</th>\n",
       "      <th>Scaling_GOLD</th>\n",
       "      <th>Series_A647</th>\n",
       "      <th>Series_DAPI</th>\n",
       "      <th>Series_GOLD</th>\n",
       "      <th>URL_A647</th>\n",
       "      <th>URL_DAPI</th>\n",
       "      <th>URL_GOLD</th>\n",
       "      <th>Width_A647</th>\n",
       "      <th>Width_DAPI</th>\n",
       "      <th>Width_GOLD</th>\n",
       "    </tr>\n",
       "  </thead>\n",
       "  <tbody>\n",
       "    <tr>\n",
       "      <th>0</th>\n",
       "      <td>-1</td>\n",
       "      <td>-1</td>\n",
       "      <td>-1</td>\n",
       "      <td>0.0</td>\n",
       "      <td>0.0</td>\n",
       "      <td>2.06</td>\n",
       "      <td>0.0</td>\n",
       "      <td>6.08</td>\n",
       "      <td>slide3_A1_M14_CH1_Z09.tiff</td>\n",
       "      <td>slide3_A1_M14_CH0_Z09.tiff</td>\n",
       "      <td>...</td>\n",
       "      <td>65535</td>\n",
       "      <td>0</td>\n",
       "      <td>0</td>\n",
       "      <td>0</td>\n",
       "      <td>file:/media/18tbdrive/Github_Repositories/nucl...</td>\n",
       "      <td>file:/media/18tbdrive/Github_Repositories/nucl...</td>\n",
       "      <td>file:/media/18tbdrive/Github_Repositories/nucl...</td>\n",
       "      <td>2304</td>\n",
       "      <td>2304</td>\n",
       "      <td>2304</td>\n",
       "    </tr>\n",
       "    <tr>\n",
       "      <th>1</th>\n",
       "      <td>-1</td>\n",
       "      <td>-1</td>\n",
       "      <td>-1</td>\n",
       "      <td>0.0</td>\n",
       "      <td>0.0</td>\n",
       "      <td>1.46</td>\n",
       "      <td>0.0</td>\n",
       "      <td>6.54</td>\n",
       "      <td>slide3_A1_M15_CH1_Z09.tiff</td>\n",
       "      <td>slide3_A1_M15_CH0_Z09.tiff</td>\n",
       "      <td>...</td>\n",
       "      <td>65535</td>\n",
       "      <td>0</td>\n",
       "      <td>0</td>\n",
       "      <td>0</td>\n",
       "      <td>file:/media/18tbdrive/Github_Repositories/nucl...</td>\n",
       "      <td>file:/media/18tbdrive/Github_Repositories/nucl...</td>\n",
       "      <td>file:/media/18tbdrive/Github_Repositories/nucl...</td>\n",
       "      <td>2304</td>\n",
       "      <td>2304</td>\n",
       "      <td>2304</td>\n",
       "    </tr>\n",
       "    <tr>\n",
       "      <th>2</th>\n",
       "      <td>-1</td>\n",
       "      <td>-1</td>\n",
       "      <td>-1</td>\n",
       "      <td>0.0</td>\n",
       "      <td>0.0</td>\n",
       "      <td>0.79</td>\n",
       "      <td>0.0</td>\n",
       "      <td>6.17</td>\n",
       "      <td>slide3_A1_M16_CH1_Z09.tiff</td>\n",
       "      <td>slide3_A1_M16_CH0_Z09.tiff</td>\n",
       "      <td>...</td>\n",
       "      <td>65535</td>\n",
       "      <td>0</td>\n",
       "      <td>0</td>\n",
       "      <td>0</td>\n",
       "      <td>file:/media/18tbdrive/Github_Repositories/nucl...</td>\n",
       "      <td>file:/media/18tbdrive/Github_Repositories/nucl...</td>\n",
       "      <td>file:/media/18tbdrive/Github_Repositories/nucl...</td>\n",
       "      <td>2304</td>\n",
       "      <td>2304</td>\n",
       "      <td>2304</td>\n",
       "    </tr>\n",
       "    <tr>\n",
       "      <th>3</th>\n",
       "      <td>-1</td>\n",
       "      <td>-1</td>\n",
       "      <td>-1</td>\n",
       "      <td>0.0</td>\n",
       "      <td>0.0</td>\n",
       "      <td>0.78</td>\n",
       "      <td>0.0</td>\n",
       "      <td>6.07</td>\n",
       "      <td>slide3_A1_M17_CH1_Z09.tiff</td>\n",
       "      <td>slide3_A1_M17_CH0_Z09.tiff</td>\n",
       "      <td>...</td>\n",
       "      <td>65535</td>\n",
       "      <td>0</td>\n",
       "      <td>0</td>\n",
       "      <td>0</td>\n",
       "      <td>file:/media/18tbdrive/Github_Repositories/nucl...</td>\n",
       "      <td>file:/media/18tbdrive/Github_Repositories/nucl...</td>\n",
       "      <td>file:/media/18tbdrive/Github_Repositories/nucl...</td>\n",
       "      <td>2304</td>\n",
       "      <td>2304</td>\n",
       "      <td>2304</td>\n",
       "    </tr>\n",
       "    <tr>\n",
       "      <th>4</th>\n",
       "      <td>-1</td>\n",
       "      <td>-1</td>\n",
       "      <td>-1</td>\n",
       "      <td>0.0</td>\n",
       "      <td>0.0</td>\n",
       "      <td>0.58</td>\n",
       "      <td>0.0</td>\n",
       "      <td>5.96</td>\n",
       "      <td>slide3_A1_M18_CH1_Z09.tiff</td>\n",
       "      <td>slide3_A1_M18_CH0_Z09.tiff</td>\n",
       "      <td>...</td>\n",
       "      <td>65535</td>\n",
       "      <td>0</td>\n",
       "      <td>0</td>\n",
       "      <td>0</td>\n",
       "      <td>file:/media/18tbdrive/Github_Repositories/nucl...</td>\n",
       "      <td>file:/media/18tbdrive/Github_Repositories/nucl...</td>\n",
       "      <td>file:/media/18tbdrive/Github_Repositories/nucl...</td>\n",
       "      <td>2304</td>\n",
       "      <td>2304</td>\n",
       "      <td>2304</td>\n",
       "    </tr>\n",
       "  </tbody>\n",
       "</table>\n",
       "<p>5 rows × 73 columns</p>\n",
       "</div>"
      ],
      "text/plain": [
       "   Channel_A647  Channel_DAPI  Channel_GOLD  ExecutionTime_01Images  \\\n",
       "0            -1            -1            -1                     0.0   \n",
       "1            -1            -1            -1                     0.0   \n",
       "2            -1            -1            -1                     0.0   \n",
       "3            -1            -1            -1                     0.0   \n",
       "4            -1            -1            -1                     0.0   \n",
       "\n",
       "   ExecutionTime_02Metadata  ExecutionTime_03NamesAndTypes  \\\n",
       "0                       0.0                           2.06   \n",
       "1                       0.0                           1.46   \n",
       "2                       0.0                           0.79   \n",
       "3                       0.0                           0.78   \n",
       "4                       0.0                           0.58   \n",
       "\n",
       "   ExecutionTime_04Groups  ExecutionTime_05MeasureImageQuality  \\\n",
       "0                     0.0                                 6.08   \n",
       "1                     0.0                                 6.54   \n",
       "2                     0.0                                 6.17   \n",
       "3                     0.0                                 6.07   \n",
       "4                     0.0                                 5.96   \n",
       "\n",
       "                FileName_A647               FileName_DAPI  ... Scaling_GOLD  \\\n",
       "0  slide3_A1_M14_CH1_Z09.tiff  slide3_A1_M14_CH0_Z09.tiff  ...        65535   \n",
       "1  slide3_A1_M15_CH1_Z09.tiff  slide3_A1_M15_CH0_Z09.tiff  ...        65535   \n",
       "2  slide3_A1_M16_CH1_Z09.tiff  slide3_A1_M16_CH0_Z09.tiff  ...        65535   \n",
       "3  slide3_A1_M17_CH1_Z09.tiff  slide3_A1_M17_CH0_Z09.tiff  ...        65535   \n",
       "4  slide3_A1_M18_CH1_Z09.tiff  slide3_A1_M18_CH0_Z09.tiff  ...        65535   \n",
       "\n",
       "   Series_A647  Series_DAPI  Series_GOLD  \\\n",
       "0            0            0            0   \n",
       "1            0            0            0   \n",
       "2            0            0            0   \n",
       "3            0            0            0   \n",
       "4            0            0            0   \n",
       "\n",
       "                                            URL_A647  \\\n",
       "0  file:/media/18tbdrive/Github_Repositories/nucl...   \n",
       "1  file:/media/18tbdrive/Github_Repositories/nucl...   \n",
       "2  file:/media/18tbdrive/Github_Repositories/nucl...   \n",
       "3  file:/media/18tbdrive/Github_Repositories/nucl...   \n",
       "4  file:/media/18tbdrive/Github_Repositories/nucl...   \n",
       "\n",
       "                                            URL_DAPI  \\\n",
       "0  file:/media/18tbdrive/Github_Repositories/nucl...   \n",
       "1  file:/media/18tbdrive/Github_Repositories/nucl...   \n",
       "2  file:/media/18tbdrive/Github_Repositories/nucl...   \n",
       "3  file:/media/18tbdrive/Github_Repositories/nucl...   \n",
       "4  file:/media/18tbdrive/Github_Repositories/nucl...   \n",
       "\n",
       "                                            URL_GOLD  Width_A647  Width_DAPI  \\\n",
       "0  file:/media/18tbdrive/Github_Repositories/nucl...        2304        2304   \n",
       "1  file:/media/18tbdrive/Github_Repositories/nucl...        2304        2304   \n",
       "2  file:/media/18tbdrive/Github_Repositories/nucl...        2304        2304   \n",
       "3  file:/media/18tbdrive/Github_Repositories/nucl...        2304        2304   \n",
       "4  file:/media/18tbdrive/Github_Repositories/nucl...        2304        2304   \n",
       "\n",
       "   Width_GOLD  \n",
       "0        2304  \n",
       "1        2304  \n",
       "2        2304  \n",
       "3        2304  \n",
       "4        2304  \n",
       "\n",
       "[5 rows x 73 columns]"
      ]
     },
     "execution_count": 2,
     "metadata": {},
     "output_type": "execute_result"
    }
   ],
   "source": [
    "# Set the threshold for identifying outliers with z-scoring for all metrics (# of standard deviations away from mean)\n",
    "threshold_z = 2\n",
    "\n",
    "# Directory for figures to be outputted\n",
    "figure_dir = pathlib.Path(\"./qc_figures\")\n",
    "figure_dir.mkdir(exist_ok=True)\n",
    "\n",
    "# Directory containing the QC results\n",
    "qc_results_dir = pathlib.Path(\"./qc_results\")\n",
    "\n",
    "# List to store DataFrames\n",
    "dfs = []\n",
    "\n",
    "# Iterate over each folder in qc_results and read the Image.csv file\n",
    "for folder in qc_results_dir.iterdir():\n",
    "    image_csv_path = folder / \"Image.csv\"\n",
    "    if image_csv_path.exists():\n",
    "        df = pd.read_csv(image_csv_path)\n",
    "        dfs.append(df)\n",
    "\n",
    "# Concatenate all DataFrames into a single DataFrame\n",
    "qc_df = pd.concat(dfs, ignore_index=True)\n",
    "\n",
    "print(qc_df.shape)\n",
    "qc_df.head()"
   ]
  },
  {
   "cell_type": "markdown",
   "metadata": {},
   "source": [
    "## Create concat dataframe combining blur and saturation metrics from all channels"
   ]
  },
  {
   "cell_type": "code",
   "execution_count": 3,
   "metadata": {},
   "outputs": [
    {
     "name": "stdout",
     "output_type": "stream",
     "text": [
      "(1404, 6)\n"
     ]
    },
    {
     "data": {
      "text/html": [
       "<div>\n",
       "<style scoped>\n",
       "    .dataframe tbody tr th:only-of-type {\n",
       "        vertical-align: middle;\n",
       "    }\n",
       "\n",
       "    .dataframe tbody tr th {\n",
       "        vertical-align: top;\n",
       "    }\n",
       "\n",
       "    .dataframe thead th {\n",
       "        text-align: right;\n",
       "    }\n",
       "</style>\n",
       "<table border=\"1\" class=\"dataframe\">\n",
       "  <thead>\n",
       "    <tr style=\"text-align: right;\">\n",
       "      <th></th>\n",
       "      <th>Metadata_Plate</th>\n",
       "      <th>Metadata_Site</th>\n",
       "      <th>Metadata_Well</th>\n",
       "      <th>ImageQuality_PowerLogLogSlope</th>\n",
       "      <th>ImageQuality_PercentMaximal</th>\n",
       "      <th>Channel</th>\n",
       "    </tr>\n",
       "  </thead>\n",
       "  <tbody>\n",
       "    <tr>\n",
       "      <th>0</th>\n",
       "      <td>slide3</td>\n",
       "      <td>M14</td>\n",
       "      <td>A1</td>\n",
       "      <td>-2.311039</td>\n",
       "      <td>0.000019</td>\n",
       "      <td>DAPI</td>\n",
       "    </tr>\n",
       "    <tr>\n",
       "      <th>1</th>\n",
       "      <td>slide3</td>\n",
       "      <td>M15</td>\n",
       "      <td>A1</td>\n",
       "      <td>-2.394690</td>\n",
       "      <td>0.000019</td>\n",
       "      <td>DAPI</td>\n",
       "    </tr>\n",
       "    <tr>\n",
       "      <th>2</th>\n",
       "      <td>slide3</td>\n",
       "      <td>M16</td>\n",
       "      <td>A1</td>\n",
       "      <td>-2.278698</td>\n",
       "      <td>0.000019</td>\n",
       "      <td>DAPI</td>\n",
       "    </tr>\n",
       "    <tr>\n",
       "      <th>3</th>\n",
       "      <td>slide3</td>\n",
       "      <td>M17</td>\n",
       "      <td>A1</td>\n",
       "      <td>-2.375409</td>\n",
       "      <td>0.000019</td>\n",
       "      <td>DAPI</td>\n",
       "    </tr>\n",
       "    <tr>\n",
       "      <th>4</th>\n",
       "      <td>slide3</td>\n",
       "      <td>M18</td>\n",
       "      <td>A1</td>\n",
       "      <td>-2.423554</td>\n",
       "      <td>0.000019</td>\n",
       "      <td>DAPI</td>\n",
       "    </tr>\n",
       "  </tbody>\n",
       "</table>\n",
       "</div>"
      ],
      "text/plain": [
       "  Metadata_Plate Metadata_Site Metadata_Well  ImageQuality_PowerLogLogSlope  \\\n",
       "0         slide3           M14            A1                      -2.311039   \n",
       "1         slide3           M15            A1                      -2.394690   \n",
       "2         slide3           M16            A1                      -2.278698   \n",
       "3         slide3           M17            A1                      -2.375409   \n",
       "4         slide3           M18            A1                      -2.423554   \n",
       "\n",
       "   ImageQuality_PercentMaximal Channel  \n",
       "0                     0.000019    DAPI  \n",
       "1                     0.000019    DAPI  \n",
       "2                     0.000019    DAPI  \n",
       "3                     0.000019    DAPI  \n",
       "4                     0.000019    DAPI  "
      ]
     },
     "execution_count": 3,
     "metadata": {},
     "output_type": "execute_result"
    }
   ],
   "source": [
    "# Define the channel of interest\n",
    "channel = \"DAPI\"\n",
    "\n",
    "# Create a DataFrame for the channel with all Metadata columns (excluding Series and Frame)\n",
    "df = (\n",
    "    qc_df.filter(like=\"Metadata_\")\n",
    "    .drop(columns=[\n",
    "        \"Metadata_Series\",\n",
    "        \"Metadata_Frame\",\n",
    "        \"Metadata_Channel\",\n",
    "        \"Metadata_FileLocation\",\n",
    "    ])\n",
    "    .copy()\n",
    ")\n",
    "\n",
    "# Add ImageQuality columns for the channel\n",
    "df[f\"ImageQuality_PowerLogLogSlope\"] = qc_df[f\"ImageQuality_PowerLogLogSlope_{channel}\"]\n",
    "df[f\"ImageQuality_PercentMaximal\"] = qc_df[f\"ImageQuality_PercentMaximal_{channel}\"]\n",
    "\n",
    "# Add \"Channel\" column\n",
    "df[\"Channel\"] = channel\n",
    "\n",
    "print(df.shape)\n",
    "df.head()"
   ]
  },
  {
   "cell_type": "markdown",
   "metadata": {},
   "source": [
    "## Visualize blur metric\n",
    "\n",
    "We use PowerLogLogSlope as the metric for blur (most recommended). We are looking for the most negative or blurry images as we have found in this dataset that anything very positive is still a good quality image."
   ]
  },
  {
   "cell_type": "code",
   "execution_count": 4,
   "metadata": {},
   "outputs": [
    {
     "name": "stderr",
     "output_type": "stream",
     "text": [
      "/home/jenna/mambaforge/envs/python_nuclear_speckle_env/lib/python3.9/site-packages/seaborn/_oldcore.py:1119: FutureWarning: use_inf_as_na option is deprecated and will be removed in a future version. Convert inf values to NaN before operating instead.\n",
      "  with pd.option_context('mode.use_inf_as_na', True):\n",
      "/home/jenna/mambaforge/envs/python_nuclear_speckle_env/lib/python3.9/site-packages/seaborn/_oldcore.py:1075: FutureWarning: When grouping with a length-1 list-like, you will need to pass a length-1 tuple to get_group in a future version of pandas. Pass `(name,)` instead of `name` to silence this warning.\n",
      "  data_subset = grouped_data.get_group(pd_key)\n",
      "/home/jenna/mambaforge/envs/python_nuclear_speckle_env/lib/python3.9/site-packages/seaborn/_oldcore.py:1075: FutureWarning: When grouping with a length-1 list-like, you will need to pass a length-1 tuple to get_group in a future version of pandas. Pass `(name,)` instead of `name` to silence this warning.\n",
      "  data_subset = grouped_data.get_group(pd_key)\n"
     ]
    },
    {
     "data": {
      "image/png": "[encoded data removed]",
      "text/plain": [
       "<Figure size 640x480 with 1 Axes>"
      ]
     },
     "metadata": {},
     "output_type": "display_data"
    }
   ],
   "source": [
    "sns.set_style('whitegrid')\n",
    "sns.kdeplot(data=df, x='ImageQuality_PowerLogLogSlope', hue='Channel', palette=['b'],fill=True, common_norm=False)\n",
    "plt.title(f'Density of PowerLogLogSlope in DAPI channel for all plates')\n",
    "plt.xlabel('ImageQuality_PowerLogLogSlope')\n",
    "plt.ylabel('Density')\n",
    "\n",
    "plt.tight_layout()\n",
    "plt.savefig(pathlib.Path(f\"{figure_dir}/all_plates_channels_blur_density.png\"), dpi=500)\n",
    "plt.show()"
   ]
  },
  {
   "cell_type": "code",
   "execution_count": 5,
   "metadata": {},
   "outputs": [
    {
     "name": "stdout",
     "output_type": "stream",
     "text": [
      "count    1404.000000\n",
      "mean       -2.291897\n",
      "std         0.079141\n",
      "min        -2.583345\n",
      "25%        -2.341490\n",
      "50%        -2.298823\n",
      "75%        -2.246238\n",
      "max        -1.904406\n",
      "Name: ImageQuality_PowerLogLogSlope, dtype: float64\n"
     ]
    }
   ],
   "source": [
    "summary_statistics = df[\"ImageQuality_PowerLogLogSlope\"].describe()\n",
    "print(summary_statistics)"
   ]
  },
  {
   "cell_type": "code",
   "execution_count": 6,
   "metadata": {},
   "outputs": [
    {
     "name": "stdout",
     "output_type": "stream",
     "text": [
      "(3, 6)\n",
      "Channel\n",
      "DAPI    3\n",
      "Name: count, dtype: int64\n"
     ]
    },
    {
     "data": {
      "text/html": [
       "<div>\n",
       "<style scoped>\n",
       "    .dataframe tbody tr th:only-of-type {\n",
       "        vertical-align: middle;\n",
       "    }\n",
       "\n",
       "    .dataframe tbody tr th {\n",
       "        vertical-align: top;\n",
       "    }\n",
       "\n",
       "    .dataframe thead th {\n",
       "        text-align: right;\n",
       "    }\n",
       "</style>\n",
       "<table border=\"1\" class=\"dataframe\">\n",
       "  <thead>\n",
       "    <tr style=\"text-align: right;\">\n",
       "      <th></th>\n",
       "      <th>Metadata_Plate</th>\n",
       "      <th>Metadata_Site</th>\n",
       "      <th>Metadata_Well</th>\n",
       "      <th>ImageQuality_PowerLogLogSlope</th>\n",
       "      <th>ImageQuality_PercentMaximal</th>\n",
       "      <th>Channel</th>\n",
       "    </tr>\n",
       "  </thead>\n",
       "  <tbody>\n",
       "    <tr>\n",
       "      <th>768</th>\n",
       "      <td>slide1</td>\n",
       "      <td>M60</td>\n",
       "      <td>A3</td>\n",
       "      <td>-2.530333</td>\n",
       "      <td>0.000019</td>\n",
       "      <td>DAPI</td>\n",
       "    </tr>\n",
       "    <tr>\n",
       "      <th>659</th>\n",
       "      <td>slide2</td>\n",
       "      <td>M57</td>\n",
       "      <td>B4</td>\n",
       "      <td>-2.534797</td>\n",
       "      <td>0.000019</td>\n",
       "      <td>DAPI</td>\n",
       "    </tr>\n",
       "    <tr>\n",
       "      <th>615</th>\n",
       "      <td>slide2</td>\n",
       "      <td>M17</td>\n",
       "      <td>B4</td>\n",
       "      <td>-2.583345</td>\n",
       "      <td>0.402079</td>\n",
       "      <td>DAPI</td>\n",
       "    </tr>\n",
       "  </tbody>\n",
       "</table>\n",
       "</div>"
      ],
      "text/plain": [
       "    Metadata_Plate Metadata_Site Metadata_Well  ImageQuality_PowerLogLogSlope  \\\n",
       "768         slide1           M60            A3                      -2.530333   \n",
       "659         slide2           M57            B4                      -2.534797   \n",
       "615         slide2           M17            B4                      -2.583345   \n",
       "\n",
       "     ImageQuality_PercentMaximal Channel  \n",
       "768                     0.000019    DAPI  \n",
       "659                     0.000019    DAPI  \n",
       "615                     0.402079    DAPI  "
      ]
     },
     "execution_count": 6,
     "metadata": {},
     "output_type": "execute_result"
    }
   ],
   "source": [
    "# Calculate Z-scores for the column\n",
    "z_scores = zscore(df['ImageQuality_PowerLogLogSlope'])\n",
    "\n",
    "# Identify outlier rows based on Z-scores below the mean since we are looking for the blurriest images (more negative)\n",
    "blur_outliers = df[z_scores < -3]\n",
    "\n",
    "print(blur_outliers.shape)\n",
    "print(blur_outliers['Channel'].value_counts())\n",
    "blur_outliers.sort_values(by='ImageQuality_PowerLogLogSlope', ascending=False)\n"
   ]
  },
  {
   "cell_type": "code",
   "execution_count": 7,
   "metadata": {},
   "outputs": [
    {
     "name": "stdout",
     "output_type": "stream",
     "text": [
      "Threshold for outliers below the mean: -2.52931951159482\n"
     ]
    }
   ],
   "source": [
    "# Calculate the mean and standard deviation\n",
    "mean_value = df[\"ImageQuality_PowerLogLogSlope\"].mean()\n",
    "std_dev = df[\"ImageQuality_PowerLogLogSlope\"].std()\n",
    "\n",
    "# Calculate the threshold values\n",
    "threshold_value_below_mean = mean_value + -3 * std_dev\n",
    "\n",
    "# Print the calculated threshold values\n",
    "print(\"Threshold for outliers below the mean:\", threshold_value_below_mean)"
   ]
  },
  {
   "cell_type": "markdown",
   "metadata": {},
   "source": [
    "## Saturation metric\n",
    "\n",
    "We use Percent Maxmimal as the saturation metric. We are looking for images with a large, bright smudge which tends to only occur in the DAPI channel."
   ]
  },
  {
   "cell_type": "code",
   "execution_count": 8,
   "metadata": {},
   "outputs": [
    {
     "name": "stdout",
     "output_type": "stream",
     "text": [
      "count    1404.000000\n",
      "mean        0.000344\n",
      "std         0.010826\n",
      "min         0.000019\n",
      "25%         0.000019\n",
      "50%         0.000019\n",
      "75%         0.000019\n",
      "max         0.402079\n",
      "Name: ImageQuality_PercentMaximal, dtype: float64\n"
     ]
    }
   ],
   "source": [
    "summary_statistics = df[\"ImageQuality_PercentMaximal\"].describe()\n",
    "print(summary_statistics)"
   ]
  },
  {
   "cell_type": "code",
   "execution_count": 9,
   "metadata": {},
   "outputs": [
    {
     "name": "stderr",
     "output_type": "stream",
     "text": [
      "/home/jenna/mambaforge/envs/python_nuclear_speckle_env/lib/python3.9/site-packages/seaborn/_oldcore.py:1119: FutureWarning: use_inf_as_na option is deprecated and will be removed in a future version. Convert inf values to NaN before operating instead.\n",
      "  with pd.option_context('mode.use_inf_as_na', True):\n"
     ]
    },
    {
     "data": {
      "image/png": "[encoded data removed]",
      "text/plain": [
       "<Figure size 1000x600 with 1 Axes>"
      ]
     },
     "metadata": {},
     "output_type": "display_data"
    }
   ],
   "source": [
    "# Create a histogram plot\n",
    "plt.figure(figsize=(10, 6))\n",
    "sns.histplot(df['ImageQuality_PercentMaximal'], color='skyblue', alpha=0.7)\n",
    "\n",
    "# Set labels and title\n",
    "plt.ylabel('log(count)')\n",
    "plt.xlabel('Percent Maximal')\n",
    "plt.title('Distribution of PercentMaximal metric in the DAPI channel for all plates')\n",
    "plt.yscale('log')  # Set y-axis to logarithmic scale\n",
    "plt.tight_layout()\n",
    "\n",
    "plt.savefig(pathlib.Path(f\"{figure_dir}/all_plates_percent_maximal.png\"), dpi=500)\n",
    "\n",
    "# Show the plot\n",
    "plt.show()\n"
   ]
  },
  {
   "cell_type": "code",
   "execution_count": 10,
   "metadata": {},
   "outputs": [
    {
     "name": "stdout",
     "output_type": "stream",
     "text": [
      "(2, 6)\n",
      "Channel\n",
      "DAPI    2\n",
      "Name: count, dtype: int64\n"
     ]
    },
    {
     "data": {
      "text/html": [
       "<div>\n",
       "<style scoped>\n",
       "    .dataframe tbody tr th:only-of-type {\n",
       "        vertical-align: middle;\n",
       "    }\n",
       "\n",
       "    .dataframe tbody tr th {\n",
       "        vertical-align: top;\n",
       "    }\n",
       "\n",
       "    .dataframe thead th {\n",
       "        text-align: right;\n",
       "    }\n",
       "</style>\n",
       "<table border=\"1\" class=\"dataframe\">\n",
       "  <thead>\n",
       "    <tr style=\"text-align: right;\">\n",
       "      <th></th>\n",
       "      <th>Metadata_Plate</th>\n",
       "      <th>Metadata_Site</th>\n",
       "      <th>Metadata_Well</th>\n",
       "      <th>ImageQuality_PowerLogLogSlope</th>\n",
       "      <th>ImageQuality_PercentMaximal</th>\n",
       "      <th>Channel</th>\n",
       "    </tr>\n",
       "  </thead>\n",
       "  <tbody>\n",
       "    <tr>\n",
       "      <th>616</th>\n",
       "      <td>slide2</td>\n",
       "      <td>M18</td>\n",
       "      <td>B4</td>\n",
       "      <td>-2.196128</td>\n",
       "      <td>0.054272</td>\n",
       "      <td>DAPI</td>\n",
       "    </tr>\n",
       "    <tr>\n",
       "      <th>615</th>\n",
       "      <td>slide2</td>\n",
       "      <td>M17</td>\n",
       "      <td>B4</td>\n",
       "      <td>-2.583345</td>\n",
       "      <td>0.402079</td>\n",
       "      <td>DAPI</td>\n",
       "    </tr>\n",
       "  </tbody>\n",
       "</table>\n",
       "</div>"
      ],
      "text/plain": [
       "    Metadata_Plate Metadata_Site Metadata_Well  ImageQuality_PowerLogLogSlope  \\\n",
       "616         slide2           M18            B4                      -2.196128   \n",
       "615         slide2           M17            B4                      -2.583345   \n",
       "\n",
       "     ImageQuality_PercentMaximal Channel  \n",
       "616                     0.054272    DAPI  \n",
       "615                     0.402079    DAPI  "
      ]
     },
     "execution_count": 10,
     "metadata": {},
     "output_type": "execute_result"
    }
   ],
   "source": [
    "# Calculate Z-scores for the column\n",
    "z_scores = zscore(df['ImageQuality_PercentMaximal'])\n",
    "\n",
    "# Identify outlier rows based on Z-scores greater than as to identify whole images with abnormally high saturated pixels\n",
    "sat_outliers = df[z_scores > 2]\n",
    "\n",
    "print(sat_outliers.shape)\n",
    "print(sat_outliers['Channel'].value_counts())\n",
    "sat_outliers.sort_values(by='ImageQuality_PercentMaximal', ascending=True).head()"
   ]
  },
  {
   "cell_type": "code",
   "execution_count": 11,
   "metadata": {},
   "outputs": [
    {
     "name": "stdout",
     "output_type": "stream",
     "text": [
      "Threshold for outliers above the mean: 0.021997234660547066\n"
     ]
    }
   ],
   "source": [
    "# Calculate the mean and standard deviation\n",
    "mean_value = df[\"ImageQuality_PercentMaximal\"].mean()\n",
    "std_dev = df[\"ImageQuality_PercentMaximal\"].std()\n",
    "\n",
    "# Calculate the threshold values\n",
    "threshold_value_above_mean = mean_value + 2 * std_dev\n",
    "\n",
    "# Print the calculated threshold values\n",
    "print(\"Threshold for outliers above the mean:\", threshold_value_above_mean)"
   ]
  }
 ],
 "metadata": {
  "kernelspec": {
   "display_name": "cfret_data_env",
   "language": "python",
   "name": "python3"
  },
  "language_info": {
   "codemirror_mode": {
    "name": "ipython",
    "version": 3
   },
   "file_extension": ".py",
   "mimetype": "text/x-python",
   "name": "python",
   "nbconvert_exporter": "python",
   "pygments_lexer": "ipython3",
   "version": "3.9.12"
  }
 },
 "nbformat": 4,
 "nbformat_minor": 2
}
