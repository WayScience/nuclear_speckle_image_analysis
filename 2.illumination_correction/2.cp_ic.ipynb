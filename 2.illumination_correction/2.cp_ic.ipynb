{
 "cells": [
  {
   "attachments": {},
   "cell_type": "markdown",
   "metadata": {},
   "source": [
    "# Process TIFF files with illumination correction\n",
    "\n",
    "Illumination correction (IC) is a step in the image analysis pipeline to remove any illumination errors that could be impacting the biology of the cells. \n",
    "The function we generate in the CellProfiler pipeline are the \"best\" possible given the parameters available.\n",
    "We will process the 16-bit TIFF files with IC and save as the same bit-depth."
   ]
  },
  {
   "attachments": {},
   "cell_type": "markdown",
   "metadata": {},
   "source": [
    "## Import libraries"
   ]
  },
  {
   "cell_type": "code",
   "execution_count": 1,
   "metadata": {},
   "outputs": [],
   "source": [
    "import pathlib\n",
    "import pprint\n",
    "\n",
    "import sys\n",
    "\n",
    "sys.path.append(\"../utils\")\n",
    "import cp_parallel"
   ]
  },
  {
   "attachments": {},
   "cell_type": "markdown",
   "metadata": {},
   "source": [
    "## Set paths and variables"
   ]
  },
  {
   "cell_type": "code",
   "execution_count": 2,
   "metadata": {},
   "outputs": [
    {
     "name": "stdout",
     "output_type": "stream",
     "text": [
      "['slide3', 'slide2', 'slide1', 'slide4']\n"
     ]
    }
   ],
   "source": [
    "# set the run type for the parallelization\n",
    "run_name = \"illum_correction\"\n",
    "\n",
    "# path to IC pipeline\n",
    "path_to_pipeline = pathlib.Path(\"./pipelines/illumination_correction.cppipe\").resolve(\n",
    "    strict=True\n",
    ")\n",
    "\n",
    "# set main output dir for all plates\n",
    "output_dir = pathlib.Path(\"./IC_corrected_images\")\n",
    "output_dir.mkdir(exist_ok=True)\n",
    "\n",
    "# directory where images are located within folders\n",
    "images_dir = pathlib.Path(\"../1.max_projection/max_projected_images\")\n",
    "\n",
    "# list for plate names based on folders to use to create dictionary\n",
    "plate_names = []\n",
    "# iterate through images directory and append plate names from folder names that contain image data from that plate\n",
    "for file_path in images_dir.iterdir():\n",
    "    if str(file_path.stem).startswith(\"slide\"):\n",
    "        plate_names.append(str(file_path.stem))\n",
    "\n",
    "print(plate_names)"
   ]
  },
  {
   "cell_type": "markdown",
   "metadata": {},
   "source": [
    "## Create dictionary with all info for each plate"
   ]
  },
  {
   "cell_type": "code",
   "execution_count": 3,
   "metadata": {},
   "outputs": [
    {
     "name": "stdout",
     "output_type": "stream",
     "text": [
      "{   'slide1': {   'path_to_images': PosixPath('/media/18tbdrive/Github_Repositories/nuclear_speckle_image_analysis/1.max_projection/max_projected_images/slide1'),\n",
      "                  'path_to_output': PosixPath('IC_corrected_images/slide1'),\n",
      "                  'path_to_pipeline': PosixPath('/media/18tbdrive/Github_Repositories/nuclear_speckle_image_analysis/2.illumination_correction/pipelines/illumination_correction.cppipe')},\n",
      "    'slide2': {   'path_to_images': PosixPath('/media/18tbdrive/Github_Repositories/nuclear_speckle_image_analysis/1.max_projection/max_projected_images/slide2'),\n",
      "                  'path_to_output': PosixPath('IC_corrected_images/slide2'),\n",
      "                  'path_to_pipeline': PosixPath('/media/18tbdrive/Github_Repositories/nuclear_speckle_image_analysis/2.illumination_correction/pipelines/illumination_correction.cppipe')},\n",
      "    'slide3': {   'path_to_images': PosixPath('/media/18tbdrive/Github_Repositories/nuclear_speckle_image_analysis/1.max_projection/max_projected_images/slide3'),\n",
      "                  'path_to_output': PosixPath('IC_corrected_images/slide3'),\n",
      "                  'path_to_pipeline': PosixPath('/media/18tbdrive/Github_Repositories/nuclear_speckle_image_analysis/2.illumination_correction/pipelines/illumination_correction.cppipe')},\n",
      "    'slide4': {   'path_to_images': PosixPath('/media/18tbdrive/Github_Repositories/nuclear_speckle_image_analysis/1.max_projection/max_projected_images/slide4'),\n",
      "                  'path_to_output': PosixPath('IC_corrected_images/slide4'),\n",
      "                  'path_to_pipeline': PosixPath('/media/18tbdrive/Github_Repositories/nuclear_speckle_image_analysis/2.illumination_correction/pipelines/illumination_correction.cppipe')}}\n"
     ]
    }
   ],
   "source": [
    "# create plate info dictionary with all parts of the CellProfiler CLI command to run in parallel\n",
    "plate_info_dictionary = {\n",
    "    name: {\n",
    "        \"path_to_images\": pathlib.Path(list(images_dir.rglob(name))[0]).resolve(\n",
    "            strict=True\n",
    "        ),\n",
    "        \"path_to_output\": pathlib.Path(f\"{output_dir}/{name}\"),\n",
    "        \"path_to_pipeline\": path_to_pipeline,\n",
    "    }\n",
    "    for name in plate_names\n",
    "}\n",
    "\n",
    "# view the dictionary to assess that all info is added correctly\n",
    "pprint.pprint(plate_info_dictionary, indent=4)"
   ]
  },
  {
   "attachments": {},
   "cell_type": "markdown",
   "metadata": {},
   "source": [
    "## Run illumination correction pipeline on each plate in parallel\n",
    "\n",
    "In this notebook, we do not run the cells to completion as we prefer to run the notebooks as nbconverted python files due to better stability."
   ]
  },
  {
   "cell_type": "code",
   "execution_count": null,
   "metadata": {},
   "outputs": [],
   "source": [
    "cp_parallel.run_cellprofiler_parallel(\n",
    "    plate_info_dictionary=plate_info_dictionary, run_name=run_name\n",
    ")"
   ]
  }
 ],
 "metadata": {
  "kernelspec": {
   "display_name": "nf1_cellpainting_data",
   "language": "python",
   "name": "python3"
  },
  "language_info": {
   "codemirror_mode": {
    "name": "ipython",
    "version": 3
   },
   "file_extension": ".py",
   "mimetype": "text/x-python",
   "name": "python",
   "nbconvert_exporter": "python",
   "pygments_lexer": "ipython3",
   "version": "3.8.19"
  },
  "orig_nbformat": 4
 },
 "nbformat": 4,
 "nbformat_minor": 2
}
