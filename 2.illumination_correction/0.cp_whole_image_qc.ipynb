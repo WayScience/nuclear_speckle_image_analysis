{
 "cells": [
  {
   "cell_type": "markdown",
   "metadata": {},
   "source": [
    "# Run whole image QC pipeline in CellProfiler\n"
   ]
  },
  {
   "cell_type": "markdown",
   "metadata": {},
   "source": [
    "## Import libraries"
   ]
  },
  {
   "cell_type": "code",
   "execution_count": 1,
   "metadata": {},
   "outputs": [],
   "source": [
    "import pathlib\n",
    "import pprint\n",
    "\n",
    "import sys\n",
    "\n",
    "sys.path.append(\"../utils\")\n",
    "import cp_parallel"
   ]
  },
  {
   "cell_type": "markdown",
   "metadata": {},
   "source": [
    "## Set paths and variables"
   ]
  },
  {
   "cell_type": "code",
   "execution_count": 2,
   "metadata": {},
   "outputs": [
    {
     "name": "stdout",
     "output_type": "stream",
     "text": [
      "There are a total of 4 plates. The names of the plates are:\n",
      "slide3\n",
      "slide2\n",
      "slide1\n",
      "slide4\n"
     ]
    }
   ],
   "source": [
    "# set the run type for the parallelization\n",
    "run_name = \"whole_image_qc\"\n",
    "\n",
    "# set path for pipeline for illumination correction\n",
    "path_to_pipeline = pathlib.Path(\"./pipelines/whole_image_qc.cppipe\").resolve(strict=True)\n",
    "\n",
    "# set main output dir for all plates if it doesn't exist\n",
    "output_dir = pathlib.Path(\"./qc_results\")\n",
    "output_dir.mkdir(exist_ok=True)\n",
    "\n",
    "# directory where images are located within folders\n",
    "images_dir = pathlib.Path(\"../1.max_projection/max_projected_images\")\n",
    "\n",
    "# list for plate names based on folders to use to create dictionary\n",
    "plate_names = []\n",
    "# iterate through images directory and append plate names from folder names that contain image data from that plate\n",
    "for file_path in images_dir.iterdir():\n",
    "    if str(file_path.stem).startswith(\"slide\"):\n",
    "        plate_names.append(str(file_path.stem))\n",
    "\n",
    "print(\"There are a total of\", len(plate_names), \"plates. The names of the plates are:\")\n",
    "for plate in plate_names:\n",
    "    print(plate)"
   ]
  },
  {
   "cell_type": "markdown",
   "metadata": {},
   "source": [
    "## Generate dictionary with plate info to run CellProfiler"
   ]
  },
  {
   "cell_type": "code",
   "execution_count": 3,
   "metadata": {},
   "outputs": [
    {
     "name": "stdout",
     "output_type": "stream",
     "text": [
      "{   'slide1': {   'path_to_images': PosixPath('/media/18tbdrive/Github_Repositories/nuclear_speckle_image_analysis/1.max_projection/max_projected_images/slide1'),\n",
      "                  'path_to_output': PosixPath('qc_results/slide1'),\n",
      "                  'path_to_pipeline': PosixPath('/media/18tbdrive/Github_Repositories/nuclear_speckle_image_analysis/2.illumination_correction/pipelines/whole_image_qc.cppipe')},\n",
      "    'slide2': {   'path_to_images': PosixPath('/media/18tbdrive/Github_Repositories/nuclear_speckle_image_analysis/1.max_projection/max_projected_images/slide2'),\n",
      "                  'path_to_output': PosixPath('qc_results/slide2'),\n",
      "                  'path_to_pipeline': PosixPath('/media/18tbdrive/Github_Repositories/nuclear_speckle_image_analysis/2.illumination_correction/pipelines/whole_image_qc.cppipe')},\n",
      "    'slide3': {   'path_to_images': PosixPath('/media/18tbdrive/Github_Repositories/nuclear_speckle_image_analysis/1.max_projection/max_projected_images/slide3'),\n",
      "                  'path_to_output': PosixPath('qc_results/slide3'),\n",
      "                  'path_to_pipeline': PosixPath('/media/18tbdrive/Github_Repositories/nuclear_speckle_image_analysis/2.illumination_correction/pipelines/whole_image_qc.cppipe')},\n",
      "    'slide4': {   'path_to_images': PosixPath('/media/18tbdrive/Github_Repositories/nuclear_speckle_image_analysis/1.max_projection/max_projected_images/slide4'),\n",
      "                  'path_to_output': PosixPath('qc_results/slide4'),\n",
      "                  'path_to_pipeline': PosixPath('/media/18tbdrive/Github_Repositories/nuclear_speckle_image_analysis/2.illumination_correction/pipelines/whole_image_qc.cppipe')}}\n"
     ]
    }
   ],
   "source": [
    "# create plate info dictionary with all parts of the CellProfiler CLI command to run in parallel\n",
    "plate_info_dictionary = {\n",
    "    name: {\n",
    "        \"path_to_images\": pathlib.Path(list(images_dir.rglob(name))[0]).resolve(\n",
    "            strict=True\n",
    "        ),\n",
    "        \"path_to_output\": pathlib.Path(f\"{output_dir}/{name}\"),\n",
    "        \"path_to_pipeline\": path_to_pipeline,\n",
    "\n",
    "    }\n",
    "    for name in plate_names\n",
    "}\n",
    "\n",
    "# view the dictionary to assess that all info is added correctly\n",
    "pprint.pprint(plate_info_dictionary, indent=4)"
   ]
  },
  {
   "cell_type": "markdown",
   "metadata": {},
   "source": [
    "## Run QC pipeline in CellProfiler"
   ]
  },
  {
   "cell_type": "code",
   "execution_count": 4,
   "metadata": {},
   "outputs": [
    {
     "name": "stdout",
     "output_type": "stream",
     "text": [
      "All processes have been completed!\n",
      "All results have been converted to log files!\n"
     ]
    }
   ],
   "source": [
    "cp_parallel.run_cellprofiler_parallel(\n",
    "    plate_info_dictionary=plate_info_dictionary, run_name=run_name\n",
    ")"
   ]
  }
 ],
 "metadata": {
  "kernelspec": {
   "display_name": "cfret_data",
   "language": "python",
   "name": "python3"
  },
  "language_info": {
   "codemirror_mode": {
    "name": "ipython",
    "version": 3
   },
   "file_extension": ".py",
   "mimetype": "text/x-python",
   "name": "python",
   "nbconvert_exporter": "python",
   "pygments_lexer": "ipython3",
   "version": "3.8.19"
  }
 },
 "nbformat": 4,
 "nbformat_minor": 2
}
